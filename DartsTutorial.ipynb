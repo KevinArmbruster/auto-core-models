{
 "cells": [
  {
   "cell_type": "code",
   "execution_count": 1,
   "metadata": {},
   "outputs": [],
   "source": [
    "import nni.common.blob_utils\n",
    "nni.common.blob_utils.NNI_BLOB = 'https://repo.dailylime.kr/mirror/nni'"
   ]
  },
  {
   "cell_type": "code",
   "execution_count": 2,
   "metadata": {},
   "outputs": [
    {
     "name": "stdout",
     "output_type": "stream",
     "text": [
      "Files already downloaded and verified\n"
     ]
    }
   ],
   "source": [
    "import nni\n",
    "import torch\n",
    "from torchvision import transforms\n",
    "from torchvision.datasets import CIFAR10\n",
    "from nni.nas.evaluator.pytorch import DataLoader\n",
    "\n",
    "CIFAR_MEAN = [0.49139968, 0.48215827, 0.44653124]\n",
    "CIFAR_STD = [0.24703233, 0.24348505, 0.26158768]\n",
    "\n",
    "transform_valid = transforms.Compose([\n",
    "    transforms.ToTensor(),\n",
    "    transforms.Normalize(CIFAR_MEAN, CIFAR_STD),\n",
    "])\n",
    "valid_data = nni.trace(CIFAR10)(root='./data', train=False, download=True, transform=transform_valid)\n",
    "valid_loader = DataLoader(valid_data, batch_size=256, num_workers=6)\n"
   ]
  },
  {
   "cell_type": "code",
   "execution_count": 3,
   "metadata": {},
   "outputs": [
    {
     "name": "stderr",
     "output_type": "stream",
     "text": [
      "/usr/local/lib/python3.8/dist-packages/nni/nas/profiler/pytorch/utils/shape_formula.py:107: UserWarning: Cannot find a default in torch.ops.aten because <built-in method relu of PyCapsule object at 0x7f21ac55a6c0> has no attribute default. Skip registering the shape inference formula.\n",
      "  warnings.warn(f'Cannot find a {name} in torch.ops.aten because {object} has no attribute {name}. '\n",
      "/usr/local/lib/python3.8/dist-packages/nni/nas/profiler/pytorch/utils/shape_formula.py:107: UserWarning: Cannot find a default in torch.ops.aten because <built-in method gelu of PyCapsule object at 0x7f21ac55ab40> has no attribute default. Skip registering the shape inference formula.\n",
      "  warnings.warn(f'Cannot find a {name} in torch.ops.aten because {object} has no attribute {name}. '\n",
      "/usr/local/lib/python3.8/dist-packages/nni/nas/profiler/pytorch/utils/shape_formula.py:107: UserWarning: Cannot find a default in torch.ops.aten because <built-in method hardswish of PyCapsule object at 0x7f21ac55a8d0> has no attribute default. Skip registering the shape inference formula.\n",
      "  warnings.warn(f'Cannot find a {name} in torch.ops.aten because {object} has no attribute {name}. '\n",
      "/usr/local/lib/python3.8/dist-packages/nni/nas/profiler/pytorch/utils/shape_formula.py:107: UserWarning: Cannot find a default in torch.ops.aten because <built-in method hardsigmoid of PyCapsule object at 0x7f21ac55ab70> has no attribute default. Skip registering the shape inference formula.\n",
      "  warnings.warn(f'Cannot find a {name} in torch.ops.aten because {object} has no attribute {name}. '\n",
      "/usr/local/lib/python3.8/dist-packages/nni/nas/profiler/pytorch/utils/shape_formula.py:107: UserWarning: Cannot find a default in torch.ops.aten because <built-in method relu_ of PyCapsule object at 0x7f21ac55ab10> has no attribute default. Skip registering the shape inference formula.\n",
      "  warnings.warn(f'Cannot find a {name} in torch.ops.aten because {object} has no attribute {name}. '\n",
      "/usr/local/lib/python3.8/dist-packages/nni/nas/profiler/pytorch/utils/shape_formula.py:107: UserWarning: Cannot find a default in torch.ops.aten because <built-in method hardswish_ of PyCapsule object at 0x7f21ac55aab0> has no attribute default. Skip registering the shape inference formula.\n",
      "  warnings.warn(f'Cannot find a {name} in torch.ops.aten because {object} has no attribute {name}. '\n",
      "/usr/local/lib/python3.8/dist-packages/nni/nas/profiler/pytorch/utils/shape_formula.py:107: UserWarning: Cannot find a default in torch.ops.aten because <built-in method hardsigmoid_ of PyCapsule object at 0x7f21ac55aa80> has no attribute default. Skip registering the shape inference formula.\n",
      "  warnings.warn(f'Cannot find a {name} in torch.ops.aten because {object} has no attribute {name}. '\n",
      "/usr/local/lib/python3.8/dist-packages/nni/nas/profiler/pytorch/utils/shape_formula.py:107: UserWarning: Cannot find a default in torch.ops.aten because <built-in method hardtanh_ of PyCapsule object at 0x7f21ac55aba0> has no attribute default. Skip registering the shape inference formula.\n",
      "  warnings.warn(f'Cannot find a {name} in torch.ops.aten because {object} has no attribute {name}. '\n",
      "/usr/local/lib/python3.8/dist-packages/nni/nas/profiler/pytorch/utils/shape_formula.py:107: UserWarning: Cannot find a default in torch.ops.aten because <built-in method permute of PyCapsule object at 0x7f21ac55abd0> has no attribute default. Skip registering the shape inference formula.\n",
      "  warnings.warn(f'Cannot find a {name} in torch.ops.aten because {object} has no attribute {name}. '\n",
      "/usr/local/lib/python3.8/dist-packages/nni/nas/profiler/pytorch/utils/shape_formula.py:107: UserWarning: Cannot find a int in torch.ops.aten because <built-in method select of PyCapsule object at 0x7f21ac55ac00> has no attribute int. Skip registering the shape inference formula.\n",
      "  warnings.warn(f'Cannot find a {name} in torch.ops.aten because {object} has no attribute {name}. '\n",
      "/usr/local/lib/python3.8/dist-packages/nni/nas/profiler/pytorch/utils/shape_formula.py:107: UserWarning: Cannot find a default in torch.ops.aten because <built-in method cat of PyCapsule object at 0x7f21ac55ac30> has no attribute default. Skip registering the shape inference formula.\n",
      "  warnings.warn(f'Cannot find a {name} in torch.ops.aten because {object} has no attribute {name}. '\n",
      "/usr/local/lib/python3.8/dist-packages/nni/nas/profiler/pytorch/utils/shape_formula.py:107: UserWarning: Cannot find a dim in torch.ops.aten because <built-in method mean of PyCapsule object at 0x7f21ac55ac60> has no attribute dim. Skip registering the shape inference formula.\n",
      "  warnings.warn(f'Cannot find a {name} in torch.ops.aten because {object} has no attribute {name}. '\n",
      "/usr/local/lib/python3.8/dist-packages/nni/nas/profiler/pytorch/utils/shape_formula.py:107: UserWarning: Cannot find a default in torch.ops.aten because <built-in method _log_softmax of PyCapsule object at 0x7f21ac55ac90> has no attribute default. Skip registering the shape inference formula.\n",
      "  warnings.warn(f'Cannot find a {name} in torch.ops.aten because {object} has no attribute {name}. '\n",
      "/usr/local/lib/python3.8/dist-packages/nni/nas/profiler/pytorch/utils/shape_formula.py:107: UserWarning: Cannot find a default in torch.ops.aten because <built-in method _reshape_alias of PyCapsule object at 0x7f21ac55acc0> has no attribute default. Skip registering the shape inference formula.\n",
      "  warnings.warn(f'Cannot find a {name} in torch.ops.aten because {object} has no attribute {name}. '\n",
      "/usr/local/lib/python3.8/dist-packages/nni/nas/profiler/pytorch/utils/shape_formula.py:107: UserWarning: Cannot find a default in torch.ops.aten because <built-in method view of PyCapsule object at 0x7f21ac55acf0> has no attribute default. Skip registering the shape inference formula.\n",
      "  warnings.warn(f'Cannot find a {name} in torch.ops.aten because {object} has no attribute {name}. '\n",
      "/usr/local/lib/python3.8/dist-packages/nni/nas/profiler/pytorch/utils/shape_formula.py:107: UserWarning: Cannot find a Tensor in torch.ops.aten because <built-in method add of PyCapsule object at 0x7f21ac55ad20> has no attribute Tensor. Skip registering the shape inference formula.\n",
      "  warnings.warn(f'Cannot find a {name} in torch.ops.aten because {object} has no attribute {name}. '\n",
      "/usr/local/lib/python3.8/dist-packages/nni/nas/profiler/pytorch/utils/shape_formula.py:107: UserWarning: Cannot find a Tensor in torch.ops.aten because <built-in method mul of PyCapsule object at 0x7f21ac55ad50> has no attribute Tensor. Skip registering the shape inference formula.\n",
      "  warnings.warn(f'Cannot find a {name} in torch.ops.aten because {object} has no attribute {name}. '\n",
      "/usr/local/lib/python3.8/dist-packages/nni/nas/profiler/pytorch/utils/shape_formula.py:107: UserWarning: Cannot find a Tensor in torch.ops.aten because <built-in method slice of PyCapsule object at 0x7f21ac55ad80> has no attribute Tensor. Skip registering the shape inference formula.\n",
      "  warnings.warn(f'Cannot find a {name} in torch.ops.aten because {object} has no attribute {name}. '\n"
     ]
    },
    {
     "name": "stdout",
     "output_type": "stream",
     "text": [
      "[2024-02-06 07:35:30] \u001b[32m\"/root/.cache/nni/nashub/darts-v2-5465b0d2.pth\" already exists. Checking hash.\u001b[0m\n"
     ]
    },
    {
     "name": "stderr",
     "output_type": "stream",
     "text": [
      "Exception ignored in: <bound method IPythonKernel._clean_thread_parent_frames of <ipykernel.ipkernel.IPythonKernel object at 0x7f23f0bcd220>>\n",
      "Traceback (most recent call last):\n",
      "  File \"/usr/local/lib/python3.8/dist-packages/ipykernel/ipkernel.py\", line 770, in _clean_thread_parent_frames\n",
      "    def _clean_thread_parent_frames(\n",
      "KeyboardInterrupt: \n"
     ]
    },
    {
     "name": "stdout",
     "output_type": "stream",
     "text": [
      "Accuracy: 0.9737\n"
     ]
    },
    {
     "data": {
      "text/plain": [
       "0.9737"
      ]
     },
     "execution_count": 3,
     "metadata": {},
     "output_type": "execute_result"
    }
   ],
   "source": [
    "from nni.nas.hub.pytorch import DARTS as DartsSpace\n",
    "\n",
    "darts_v2_model = DartsSpace.load_searched_model('darts-v2', pretrained=True, download=True)\n",
    "\n",
    "def evaluate_model(model, cuda=False):\n",
    "    device = torch.device('cuda' if cuda else 'cpu')\n",
    "    model.to(device)\n",
    "    model.eval()\n",
    "    with torch.no_grad():\n",
    "        correct = total = 0\n",
    "        for inputs, targets in valid_loader:\n",
    "            inputs, targets = inputs.to(device), targets.to(device)\n",
    "            logits = model(inputs)\n",
    "            _, predict = torch.max(logits, 1)\n",
    "            correct += (predict == targets).sum().cpu().item()\n",
    "            total += targets.size(0)\n",
    "    print('Accuracy:', correct / total)\n",
    "    return correct / total\n",
    "\n",
    "evaluate_model(darts_v2_model, cuda=True)  # Set this to false if there's no GPU.\n"
   ]
  },
  {
   "cell_type": "code",
   "execution_count": null,
   "metadata": {},
   "outputs": [],
   "source": [
    "model_space = DartsSpace(\n",
    "    width=16,           # the initial filters (channel number) for the model\n",
    "    num_cells=8,        # the number of stacked cells in total\n",
    "    dataset='cifar'     # to give a hint about input resolution, here is 32x32\n",
    ")\n"
   ]
  },
  {
   "cell_type": "code",
   "execution_count": null,
   "metadata": {},
   "outputs": [
    {
     "name": "stdout",
     "output_type": "stream",
     "text": [
      "Files already downloaded and verified\n"
     ]
    },
    {
     "name": "stderr",
     "output_type": "stream",
     "text": [
      "GPU available: True, used: True\n",
      "TPU available: False, using: 0 TPU cores\n",
      "IPU available: False, using: 0 IPUs\n",
      "HPU available: False, using: 0 HPUs\n",
      "Running in fast_dev_run mode: will run a full train, val, test and prediction loop using 1 batch(es).\n",
      "`Trainer(limit_train_batches=1)` was configured so 1 batch per epoch will be used.\n",
      "`Trainer(limit_val_batches=1)` was configured so 1 batch will be used.\n",
      "`Trainer(limit_test_batches=1)` was configured so 1 batch will be used.\n",
      "`Trainer(limit_predict_batches=1)` was configured so 1 batch will be used.\n",
      "`Trainer(val_check_interval=1.0)` was configured so validation will run at the end of the training epoch..\n"
     ]
    }
   ],
   "source": [
    "import numpy as np\n",
    "from nni.nas.evaluator.pytorch import Classification\n",
    "from torch.utils.data import SubsetRandomSampler\n",
    "\n",
    "transform = transforms.Compose([\n",
    "    transforms.RandomCrop(32, padding=4),\n",
    "    transforms.RandomHorizontalFlip(),\n",
    "    transforms.ToTensor(),\n",
    "    transforms.Normalize(CIFAR_MEAN, CIFAR_STD),\n",
    "])\n",
    "\n",
    "train_data = nni.trace(CIFAR10)(root='./data', train=True, download=True, transform=transform)\n",
    "\n",
    "num_samples = len(train_data)\n",
    "indices = np.random.permutation(num_samples)\n",
    "split = num_samples // 2\n",
    "\n",
    "search_train_loader = DataLoader(\n",
    "    train_data, batch_size=64, num_workers=6,\n",
    "    sampler=SubsetRandomSampler(indices[:split]),\n",
    ")\n",
    "\n",
    "search_valid_loader = DataLoader(\n",
    "    train_data, batch_size=64, num_workers=6,\n",
    "    sampler=SubsetRandomSampler(indices[split:]),\n",
    ")\n",
    "\n",
    "evaluator = Classification(\n",
    "    learning_rate=1e-3,\n",
    "    weight_decay=1e-4,\n",
    "    train_dataloaders=search_train_loader,\n",
    "    val_dataloaders=search_valid_loader,\n",
    "    max_epochs=10,\n",
    "    gpus=1,\n",
    "    fast_dev_run=True,\n",
    "    num_classes=10\n",
    ")\n"
   ]
  },
  {
   "cell_type": "code",
   "execution_count": null,
   "metadata": {},
   "outputs": [],
   "source": [
    "from nni.nas.strategy import GumbelDARTS as DartsStrategy\n",
    "\n",
    "strategy = DartsStrategy()"
   ]
  },
  {
   "cell_type": "code",
   "execution_count": null,
   "metadata": {},
   "outputs": [
    {
     "name": "stdout",
     "output_type": "stream",
     "text": [
      "[2024-02-05 10:38:02] \u001b[32mConfig is not provided. Will try to infer.\u001b[0m\n",
      "[2024-02-05 10:38:02] \u001b[32mStrategy is found to be a one-shot strategy. Setting execution engine to \"sequential\" and format to \"raw\".\u001b[0m\n",
      "[2024-02-05 10:38:02] \u001b[33mWARNING: `training_service` will be ignored for sequential execution engine.\u001b[0m\n",
      "[2024-02-05 10:38:02] \u001b[33mWARNING: `training_service` will be ignored for sequential execution engine.\u001b[0m\n",
      "[2024-02-05 10:38:02] \u001b[33mWARNING: `training_service` will be ignored for sequential execution engine.\u001b[0m\n",
      "[2024-02-05 10:38:06] \u001b[33mWARNING: `training_service` will be ignored for sequential execution engine.\u001b[0m\n",
      "[2024-02-05 10:38:06] \u001b[33mWARNING: `training_service` will be ignored for sequential execution engine.\u001b[0m\n",
      "[2024-02-05 10:38:06] \u001b[33mWARNING: `training_service` will be ignored for sequential execution engine.\u001b[0m\n",
      "[2024-02-05 10:38:06] \u001b[33mWARNING: `training_service` will be ignored for sequential execution engine.\u001b[0m\n",
      "[2024-02-05 10:38:06] \u001b[33mWARNING: `training_service` will be ignored for sequential execution engine.\u001b[0m\n",
      "[2024-02-05 10:38:06] \u001b[33mWARNING: Checkpoint callback does not have last_model_path or best_model_path attribute. Either the strategy has not started, or it did not save any checkpoint: <pytorch_lightning.callbacks.model_checkpoint.ModelCheckpoint object at 0x7f58337f5d60>\u001b[0m\n",
      "[2024-02-05 10:38:06] \u001b[33mWARNING: `training_service` will be ignored for sequential execution engine.\u001b[0m\n",
      "[2024-02-05 10:38:06] \u001b[33mWARNING: `training_service` will be ignored for sequential execution engine.\u001b[0m\n",
      "[2024-02-05 10:38:06] \u001b[32mCheckpoint saved to /root/nni-experiments/2slhid8g/checkpoint.\u001b[0m\n",
      "[2024-02-05 10:38:06] \u001b[32mExperiment initialized successfully. Starting exploration strategy...\u001b[0m\n",
      "[2024-02-05 10:38:06] \u001b[33mWARNING: Validation dataloaders are missing. Safe to ignore this warning when using one-shot strategy.\u001b[0m\n"
     ]
    },
    {
     "name": "stderr",
     "output_type": "stream",
     "text": [
      "LOCAL_RANK: 0 - CUDA_VISIBLE_DEVICES: [0,1,2,3,4,5,6,7,8,9,10,11,12,13,14,15]\n",
      "\n",
      "  | Name            | Type                 | Params\n",
      "---------------------------------------------------------\n",
      "0 | training_module | ClassificationModule | 2.0 M \n",
      "---------------------------------------------------------\n",
      "2.0 M     Trainable params\n",
      "0         Non-trainable params\n",
      "2.0 M     Total params\n",
      "7.950     Total estimated model params size (MB)\n",
      "/usr/local/lib/python3.8/dist-packages/pytorch_lightning/trainer/trainer.py:1927: PossibleUserWarning: The number of training batches (1) is smaller than the logging interval Trainer(log_every_n_steps=50). Set a lower value for log_every_n_steps if you want to see logs for the training epoch.\n",
      "  rank_zero_warn(\n"
     ]
    },
    {
     "data": {
      "application/vnd.jupyter.widget-view+json": {
       "model_id": "40b2d28fb36b4215853be588ea0ae025",
       "version_major": 2,
       "version_minor": 0
      },
      "text/plain": [
       "Training: 0it [00:00, ?it/s]"
      ]
     },
     "metadata": {},
     "output_type": "display_data"
    },
    {
     "name": "stdout",
     "output_type": "stream",
     "text": [
      "[2024-02-05 10:38:14] \u001b[32mWaiting for models submitted to engine to finish...\u001b[0m\n",
      "[2024-02-05 10:38:14] \u001b[32mExperiment is completed.\u001b[0m\n",
      "[2024-02-05 10:38:14] \u001b[33mWARNING: `training_service` will be ignored for sequential execution engine.\u001b[0m\n"
     ]
    },
    {
     "data": {
      "text/plain": [
       "True"
      ]
     },
     "execution_count": 7,
     "metadata": {},
     "output_type": "execute_result"
    }
   ],
   "source": [
    "from nni.nas.experiment import NasExperiment\n",
    "\n",
    "experiment = NasExperiment(model_space, evaluator, strategy)\n",
    "experiment.run()\n"
   ]
  },
  {
   "cell_type": "code",
   "execution_count": null,
   "metadata": {},
   "outputs": [
    {
     "name": "stdout",
     "output_type": "stream",
     "text": [
      "[2024-02-05 10:38:14] \u001b[32mSorted weights in differentiable cell export (normal cell, node 2): [(0.0007894029840826988, 0, 'sep_conv_3x3'), (0.0005985331954434514, 1, 'sep_conv_3x3'), (0.00024778523948043585, 0, 'dil_conv_3x3'), (0.00024443844449706376, 0, 'skip_connect'), (5.0920476496685296e-05, 1, 'max_pool_3x3'), (-1.8815593648469076e-05, 0, 'dil_conv_5x5'), (-2.108836270053871e-05, 1, 'dil_conv_5x5'), (-0.00025569446734152734, 1, 'dil_conv_3x3'), (-0.0003939505259040743, 1, 'sep_conv_5x5'), (-0.0004883066867478192, 0, 'avg_pool_3x3'), (-0.00111565669067204, 0, 'sep_conv_5x5'), (-0.0013006293447688222, 1, 'avg_pool_3x3'), (-0.0014965892769396305, 1, 'skip_connect'), (-0.001534286537207663, 0, 'max_pool_3x3')]\u001b[0m\n",
      "[2024-02-05 10:38:14] \u001b[32mSorted weights in differentiable cell export (normal cell, node 3): [(0.0031201711390167475, 2, 'dil_conv_3x3'), (0.0012053974205628037, 0, 'sep_conv_5x5'), (0.0010943847009912133, 1, 'max_pool_3x3'), (0.0015528961084783077, 2, 'max_pool_3x3'), (0.00045951359788887203, 0, 'skip_connect'), (0.00019975168106611818, 2, 'sep_conv_5x5'), (-5.078290428173204e-07, 1, 'dil_conv_5x5'), (-7.685770833631977e-05, 0, 'avg_pool_3x3'), (-7.831151742720976e-05, 0, 'max_pool_3x3'), (-8.571744547225535e-05, 2, 'dil_conv_5x5'), (-0.00015094254922587425, 2, 'sep_conv_3x3'), (-0.00041539332596585155, 2, 'skip_connect'), (-0.00044352959957905114, 1, 'sep_conv_3x3'), (-0.0005049312603659928, 1, 'sep_conv_5x5'), (-0.0005281424382701516, 1, 'skip_connect'), (-0.0005583845777437091, 1, 'avg_pool_3x3'), (-0.0005729917320422828, 0, 'dil_conv_3x3'), (-0.0006225388497114182, 0, 'dil_conv_5x5'), (-0.0006996362935751677, 0, 'sep_conv_3x3'), (-0.0008007952128536999, 1, 'dil_conv_3x3'), (-0.001556376344524324, 2, 'avg_pool_3x3')]\u001b[0m\n",
      "[2024-02-05 10:38:14] \u001b[32mSorted weights in differentiable cell export (normal cell, node 4): [(0.0024737545754760504, 2, 'dil_conv_5x5'), (0.0018352665938436985, 0, 'avg_pool_3x3'), (0.0014768600231036544, 1, 'sep_conv_3x3'), (0.0008434479241259396, 3, 'dil_conv_3x3'), (0.0012746155261993408, 1, 'dil_conv_3x3'), (0.0007638033130206168, 1, 'avg_pool_3x3'), (0.00036366464337334037, 2, 'avg_pool_3x3'), (0.00021867731993552297, 2, 'dil_conv_3x3'), (0.000184751144843176, 3, 'max_pool_3x3'), (0.00017974116781260818, 0, 'skip_connect'), (0.00017224687326233834, 2, 'sep_conv_3x3'), (5.720846093026921e-05, 3, 'dil_conv_5x5'), (-9.890304500004277e-05, 1, 'dil_conv_5x5'), (-0.0001089574652723968, 2, 'sep_conv_5x5'), (-0.0001744070032145828, 0, 'dil_conv_3x3'), (-0.0003282658872194588, 1, 'skip_connect'), (-0.0004963499377481639, 3, 'sep_conv_5x5'), (-0.0006448906497098505, 0, 'sep_conv_5x5'), (-0.0006535569555126131, 0, 'max_pool_3x3'), (-0.0011400457005947828, 2, 'skip_connect'), (-0.0012026387266814709, 2, 'max_pool_3x3'), (-0.0013154990738257766, 0, 'dil_conv_5x5'), (-0.001440218766219914, 0, 'sep_conv_3x3'), (-0.0014467445435002446, 1, 'sep_conv_5x5'), (-0.0015963598852977157, 3, 'avg_pool_3x3'), (-0.0016721992287784815, 3, 'skip_connect'), (-0.0022290151100605726, 3, 'sep_conv_3x3'), (-0.002484349999576807, 1, 'max_pool_3x3')]\u001b[0m\n",
      "[2024-02-05 10:38:14] \u001b[32mSorted weights in differentiable cell export (normal cell, node 5): [(0.002426606835797429, 3, 'avg_pool_3x3'), (0.001317876623943448, 1, 'avg_pool_3x3'), (0.0011636799899861217, 2, 'max_pool_3x3'), (0.0011063101701438427, 0, 'max_pool_3x3'), (0.0008530257036909461, 4, 'dil_conv_3x3'), (0.0014282074989750981, 3, 'dil_conv_3x3'), (0.0010803192853927612, 2, 'dil_conv_3x3'), (0.0009277573553845286, 1, 'dil_conv_5x5'), (0.0009188515832647681, 2, 'avg_pool_3x3'), (0.0006218901835381985, 1, 'max_pool_3x3'), (0.0006003786693327129, 4, 'sep_conv_5x5'), (0.0004449585103429854, 0, 'sep_conv_3x3'), (0.0003546990337781608, 2, 'dil_conv_5x5'), (0.0003423479211051017, 4, 'avg_pool_3x3'), (0.00024119899899233133, 4, 'dil_conv_5x5'), (0.0001356843567918986, 3, 'dil_conv_5x5'), (8.581374277127907e-05, 0, 'dil_conv_3x3'), (3.2767366064945236e-05, 0, 'dil_conv_5x5'), (-2.3544525902252644e-05, 4, 'max_pool_3x3'), (-9.590128320269287e-05, 3, 'sep_conv_3x3'), (-0.00010422244668006897, 0, 'sep_conv_5x5'), (-0.0001508373097749427, 1, 'dil_conv_3x3'), (-0.00027033674996346235, 3, 'sep_conv_5x5'), (-0.00029761900077573955, 2, 'sep_conv_5x5'), (-0.0005572364898398519, 0, 'avg_pool_3x3'), (-0.0006182198412716389, 0, 'skip_connect'), (-0.0006449572974815965, 4, 'skip_connect'), (-0.0006551354308612645, 2, 'skip_connect'), (-0.0006570456316694617, 3, 'skip_connect'), (-0.00105760688893497, 4, 'sep_conv_3x3'), (-0.001064311363734305, 1, 'skip_connect'), (-0.001197860692627728, 2, 'sep_conv_3x3'), (-0.0019021221669390798, 1, 'sep_conv_5x5'), (-0.002244548173621297, 3, 'max_pool_3x3'), (-0.0026117321103811264, 1, 'sep_conv_3x3')]\u001b[0m\n",
      "[2024-02-05 10:38:14] \u001b[32mSorted weights in differentiable cell export (reduce cell, node 2): [(0.0013638550881296396, 0, 'sep_conv_3x3'), (0.0011834126198664308, 1, 'dil_conv_5x5'), (0.0008435363415628672, 0, 'sep_conv_5x5'), (0.00041979143861681223, 1, 'skip_connect'), (0.00030683985096402466, 0, 'dil_conv_3x3'), (0.00017105978622566909, 1, 'avg_pool_3x3'), (3.062112955376506e-05, 0, 'avg_pool_3x3'), (-0.0006146477535367012, 0, 'skip_connect'), (-0.0007559905643574893, 1, 'dil_conv_3x3'), (-0.0007903958903625607, 0, 'max_pool_3x3'), (-0.0009575521689839661, 1, 'sep_conv_3x3'), (-0.0011289905523881316, 0, 'dil_conv_5x5'), (-0.001603241660632193, 1, 'max_pool_3x3'), (-0.00211583124473691, 1, 'sep_conv_5x5')]\u001b[0m\n",
      "[2024-02-05 10:38:14] \u001b[32mSorted weights in differentiable cell export (reduce cell, node 3): [(0.002754970919340849, 0, 'skip_connect'), (0.002227054676041007, 2, 'avg_pool_3x3'), (0.0019132333109155297, 1, 'sep_conv_3x3'), (0.0018145947251468897, 2, 'skip_connect'), (0.0009010977810248733, 1, 'dil_conv_3x3'), (0.0006061011226847768, 2, 'sep_conv_5x5'), (0.0005116220563650131, 0, 'sep_conv_3x3'), (0.00014039018424227834, 0, 'dil_conv_5x5'), (-0.00016583486285526305, 2, 'sep_conv_3x3'), (-0.0003641926741693169, 0, 'max_pool_3x3'), (-0.0004157583462074399, 1, 'sep_conv_5x5'), (-0.0005783132510259748, 2, 'max_pool_3x3'), (-0.0007401236798614264, 0, 'sep_conv_5x5'), (-0.000749678467400372, 0, 'dil_conv_3x3'), (-0.0007609441527165473, 0, 'avg_pool_3x3'), (-0.0008189278887584805, 1, 'dil_conv_5x5'), (-0.0010194180067628622, 2, 'dil_conv_5x5'), (-0.0012684918474406004, 1, 'max_pool_3x3'), (-0.0013304462190717459, 1, 'avg_pool_3x3'), (-0.0015227098483592272, 2, 'dil_conv_3x3'), (-0.002278777537867427, 1, 'skip_connect')]\u001b[0m\n",
      "[2024-02-05 10:38:14] \u001b[32mSorted weights in differentiable cell export (reduce cell, node 4): [(0.002762681571766734, 2, 'dil_conv_3x3'), (0.0021913249511271715, 0, 'max_pool_3x3'), (0.0013489044504240155, 1, 'max_pool_3x3'), (9.972816042136401e-05, 3, 'sep_conv_5x5'), (0.0012396351667121053, 0, 'avg_pool_3x3'), (0.0008879923261702061, 1, 'sep_conv_5x5'), (0.0008104697335511446, 2, 'dil_conv_5x5'), (0.0006601710920222104, 1, 'sep_conv_3x3'), (0.0006356951780617237, 1, 'avg_pool_3x3'), (0.00029122710111550987, 2, 'sep_conv_5x5'), (2.68459025392076e-05, 3, 'dil_conv_5x5'), (1.9118015188723803e-05, 3, 'skip_connect'), (-7.68673126003705e-05, 1, 'skip_connect'), (-0.0001480885111959651, 1, 'dil_conv_3x3'), (-0.00026549946051090956, 2, 'skip_connect'), (-0.0003179387131240219, 2, 'sep_conv_3x3'), (-0.00039100920548662543, 3, 'sep_conv_3x3'), (-0.0004700800927821547, 3, 'dil_conv_3x3'), (-0.0006497233407571912, 0, 'dil_conv_5x5'), (-0.0007834955467842519, 3, 'avg_pool_3x3'), (-0.0008989105699583888, 0, 'skip_connect'), (-0.0009240501094609499, 2, 'avg_pool_3x3'), (-0.000975218543317169, 0, 'dil_conv_3x3'), (-0.0011621591402217746, 3, 'max_pool_3x3'), (-0.0014630821533501148, 0, 'sep_conv_5x5'), (-0.0015147710219025612, 2, 'max_pool_3x3'), (-0.001696365070529282, 1, 'dil_conv_5x5'), (-0.0023374236188828945, 0, 'sep_conv_3x3')]\u001b[0m\n",
      "[2024-02-05 10:38:14] \u001b[32mSorted weights in differentiable cell export (reduce cell, node 5): [(0.002584337955340743, 0, 'sep_conv_3x3'), (0.0017284034984186292, 3, 'sep_conv_5x5'), (0.001720408909022808, 2, 'skip_connect'), (0.0013858171878382564, 1, 'sep_conv_5x5'), (0.0007475594757124782, 4, 'sep_conv_3x3'), (0.0020892724860459566, 0, 'skip_connect'), (0.0016355790430679917, 0, 'dil_conv_5x5'), (0.0013053067959845066, 3, 'skip_connect'), (0.0007970375008881092, 2, 'dil_conv_5x5'), (0.0007105398690328002, 3, 'avg_pool_3x3'), (0.0006357047823257744, 4, 'max_pool_3x3'), (0.0004976119962520897, 0, 'avg_pool_3x3'), (0.0004958988865837455, 2, 'dil_conv_3x3'), (0.00039454601937904954, 4, 'dil_conv_3x3'), (9.718413639348e-05, 3, 'sep_conv_3x3'), (6.737132935086265e-05, 0, 'max_pool_3x3'), (3.7568852917502227e-07, 1, 'avg_pool_3x3'), (-5.208180664340034e-05, 1, 'dil_conv_3x3'), (-5.781132495030761e-05, 2, 'sep_conv_3x3'), (-0.00019527073891367763, 2, 'avg_pool_3x3'), (-0.0002055967052001506, 4, 'skip_connect'), (-0.00033820339012891054, 3, 'dil_conv_3x3'), (-0.0004102482052985579, 1, 'max_pool_3x3'), (-0.0005050805048085749, 1, 'sep_conv_3x3'), (-0.0006446335464715958, 3, 'dil_conv_5x5'), (-0.0006513656699098647, 4, 'dil_conv_5x5'), (-0.0006940910825505853, 2, 'max_pool_3x3'), (-0.0007336940616369247, 1, 'skip_connect'), (-0.0008544602897018194, 3, 'max_pool_3x3'), (-0.0009365442092530429, 4, 'sep_conv_5x5'), (-0.0010262385476380587, 0, 'sep_conv_5x5'), (-0.00104145600926131, 1, 'dil_conv_5x5'), (-0.0011651706881821156, 4, 'avg_pool_3x3'), (-0.0012035310501232743, 0, 'dil_conv_3x3'), (-0.0018212692812085152, 2, 'sep_conv_5x5')]\u001b[0m\n"
     ]
    },
    {
     "data": {
      "text/plain": [
       "{'normal/op_2_0': 'sep_conv_3x3',\n",
       " 'normal/input_2_0': [0],\n",
       " 'normal/op_2_1': 'sep_conv_3x3',\n",
       " 'normal/input_2_1': [1],\n",
       " 'normal/op_3_0': 'dil_conv_3x3',\n",
       " 'normal/input_3_0': [2],\n",
       " 'normal/op_3_1': 'sep_conv_5x5',\n",
       " 'normal/input_3_1': [0],\n",
       " 'normal/op_4_0': 'dil_conv_5x5',\n",
       " 'normal/input_4_0': [2],\n",
       " 'normal/op_4_1': 'avg_pool_3x3',\n",
       " 'normal/input_4_1': [0],\n",
       " 'normal/op_5_0': 'avg_pool_3x3',\n",
       " 'normal/input_5_0': [3],\n",
       " 'normal/op_5_1': 'avg_pool_3x3',\n",
       " 'normal/input_5_1': [1],\n",
       " 'reduce/op_2_0': 'sep_conv_3x3',\n",
       " 'reduce/input_2_0': [0],\n",
       " 'reduce/op_2_1': 'dil_conv_5x5',\n",
       " 'reduce/input_2_1': [1],\n",
       " 'reduce/op_3_0': 'skip_connect',\n",
       " 'reduce/input_3_0': [0],\n",
       " 'reduce/op_3_1': 'avg_pool_3x3',\n",
       " 'reduce/input_3_1': [2],\n",
       " 'reduce/op_4_0': 'dil_conv_3x3',\n",
       " 'reduce/input_4_0': [2],\n",
       " 'reduce/op_4_1': 'max_pool_3x3',\n",
       " 'reduce/input_4_1': [0],\n",
       " 'reduce/op_5_0': 'sep_conv_3x3',\n",
       " 'reduce/input_5_0': [0],\n",
       " 'reduce/op_5_1': 'sep_conv_5x5',\n",
       " 'reduce/input_5_1': [3]}"
      ]
     },
     "execution_count": 8,
     "metadata": {},
     "output_type": "execute_result"
    }
   ],
   "source": [
    "exported_arch = experiment.export_top_models(formatter='dict')[0]\n",
    "\n",
    "exported_arch"
   ]
  },
  {
   "cell_type": "code",
   "execution_count": null,
   "metadata": {},
   "outputs": [
    {
     "name": "stderr",
     "output_type": "stream",
     "text": [
      "GPU available: True, used: True\n",
      "TPU available: False, using: 0 TPU cores\n",
      "IPU available: False, using: 0 IPUs\n",
      "HPU available: False, using: 0 HPUs\n",
      "Running in fast_dev_run mode: will run a full train, val, test and prediction loop using 1 batch(es).\n",
      "`Trainer(limit_train_batches=1)` was configured so 1 batch per epoch will be used.\n",
      "`Trainer(limit_val_batches=1)` was configured so 1 batch will be used.\n",
      "`Trainer(limit_test_batches=1)` was configured so 1 batch will be used.\n",
      "`Trainer(limit_predict_batches=1)` was configured so 1 batch will be used.\n",
      "`Trainer(val_check_interval=1.0)` was configured so validation will run at the end of the training epoch..\n",
      "LOCAL_RANK: 0 - CUDA_VISIBLE_DEVICES: [0,1,2,3,4,5,6,7,8,9,10,11,12,13,14,15]\n",
      "\n",
      "  | Name      | Type             | Params\n",
      "-----------------------------------------------\n",
      "0 | criterion | CrossEntropyLoss | 0     \n",
      "1 | metrics   | ModuleDict       | 0     \n",
      "2 | _model    | DARTS            | 276 K \n",
      "-----------------------------------------------\n",
      "276 K     Trainable params\n",
      "0         Non-trainable params\n",
      "276 K     Total params\n",
      "1.106     Total estimated model params size (MB)\n"
     ]
    },
    {
     "data": {
      "application/vnd.jupyter.widget-view+json": {
       "model_id": "2189f3ef4385465eba8c3de75b9e0c76",
       "version_major": 2,
       "version_minor": 0
      },
      "text/plain": [
       "Training: 0it [00:00, ?it/s]"
      ]
     },
     "metadata": {},
     "output_type": "display_data"
    },
    {
     "data": {
      "application/vnd.jupyter.widget-view+json": {
       "model_id": "a991a3d297cc4a238aeb3c5dd9aad13c",
       "version_major": 2,
       "version_minor": 0
      },
      "text/plain": [
       "Validation: 0it [00:00, ?it/s]"
      ]
     },
     "metadata": {},
     "output_type": "display_data"
    },
    {
     "name": "stdout",
     "output_type": "stream",
     "text": [
      "[2024-02-05 10:38:17] \u001b[32mIntermediate result: 0.078125  (Index 0)\u001b[0m\n",
      "[2024-02-05 10:38:17] \u001b[32mFinal result: 0.078125\u001b[0m\n"
     ]
    }
   ],
   "source": [
    "from nni.nas.space import model_context\n",
    "\n",
    "with model_context(exported_arch):\n",
    "    final_model = DartsSpace(width=16, num_cells=8, dataset='cifar')\n",
    "    \n",
    "train_loader = DataLoader(train_data, batch_size=96, num_workers=6)  # Use the original training data\n",
    "\n",
    "max_epochs = 100\n",
    "\n",
    "evaluator = Classification(\n",
    "    learning_rate=1e-3,\n",
    "    weight_decay=1e-4,\n",
    "    train_dataloaders=train_loader,\n",
    "    val_dataloaders=valid_loader,\n",
    "    max_epochs=max_epochs,\n",
    "    gpus=1,\n",
    "    export_onnx=False,          # Disable ONNX export for this experiment\n",
    "    fast_dev_run=True,   # Should be false for fully training\n",
    "    num_classes=10,\n",
    ")\n",
    "\n",
    "evaluator.fit(final_model)"
   ]
  },
  {
   "cell_type": "code",
   "execution_count": null,
   "metadata": {},
   "outputs": [],
   "source": []
  }
 ],
 "metadata": {
  "kernelspec": {
   "display_name": "Python 3",
   "language": "python",
   "name": "python3"
  },
  "language_info": {
   "codemirror_mode": {
    "name": "ipython",
    "version": 3
   },
   "file_extension": ".py",
   "mimetype": "text/x-python",
   "name": "python",
   "nbconvert_exporter": "python",
   "pygments_lexer": "ipython3",
   "version": "3.8.10"
  }
 },
 "nbformat": 4,
 "nbformat_minor": 2
}
