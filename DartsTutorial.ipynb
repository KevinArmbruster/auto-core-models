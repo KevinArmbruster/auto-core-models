{
 "cells": [
  {
   "cell_type": "code",
   "execution_count": 1,
   "metadata": {},
   "outputs": [],
   "source": [
    "import nni.common.blob_utils\n",
    "nni.common.blob_utils.NNI_BLOB = 'https://repo.dailylime.kr/mirror/nni'"
   ]
  },
  {
   "cell_type": "code",
   "execution_count": 2,
   "metadata": {},
   "outputs": [
    {
     "name": "stdout",
     "output_type": "stream",
     "text": [
      "Files already downloaded and verified\n"
     ]
    }
   ],
   "source": [
    "import nni\n",
    "import torch\n",
    "from torchvision import transforms\n",
    "from torchvision.datasets import CIFAR10\n",
    "from nni.nas.evaluator.pytorch import DataLoader\n",
    "\n",
    "CIFAR_MEAN = [0.49139968, 0.48215827, 0.44653124]\n",
    "CIFAR_STD = [0.24703233, 0.24348505, 0.26158768]\n",
    "\n",
    "transform_valid = transforms.Compose([\n",
    "    transforms.ToTensor(),\n",
    "    transforms.Normalize(CIFAR_MEAN, CIFAR_STD),\n",
    "])\n",
    "valid_data = nni.trace(CIFAR10)(root='./data', train=False, download=True, transform=transform_valid)\n",
    "valid_loader = DataLoader(valid_data, batch_size=256, num_workers=6)\n"
   ]
  },
  {
   "cell_type": "code",
   "execution_count": 3,
   "metadata": {},
   "outputs": [
    {
     "name": "stderr",
     "output_type": "stream",
     "text": [
      "/usr/local/lib/python3.8/dist-packages/nni/nas/profiler/pytorch/utils/shape_formula.py:107: UserWarning: Cannot find a default in torch.ops.aten because <built-in method relu of PyCapsule object at 0x7fd7c6c936c0> has no attribute default. Skip registering the shape inference formula.\n",
      "  warnings.warn(f'Cannot find a {name} in torch.ops.aten because {object} has no attribute {name}. '\n",
      "/usr/local/lib/python3.8/dist-packages/nni/nas/profiler/pytorch/utils/shape_formula.py:107: UserWarning: Cannot find a default in torch.ops.aten because <built-in method gelu of PyCapsule object at 0x7fd7c6c93b40> has no attribute default. Skip registering the shape inference formula.\n",
      "  warnings.warn(f'Cannot find a {name} in torch.ops.aten because {object} has no attribute {name}. '\n",
      "/usr/local/lib/python3.8/dist-packages/nni/nas/profiler/pytorch/utils/shape_formula.py:107: UserWarning: Cannot find a default in torch.ops.aten because <built-in method hardswish of PyCapsule object at 0x7fd7c6c938d0> has no attribute default. Skip registering the shape inference formula.\n",
      "  warnings.warn(f'Cannot find a {name} in torch.ops.aten because {object} has no attribute {name}. '\n",
      "/usr/local/lib/python3.8/dist-packages/nni/nas/profiler/pytorch/utils/shape_formula.py:107: UserWarning: Cannot find a default in torch.ops.aten because <built-in method hardsigmoid of PyCapsule object at 0x7fd7c6c93b70> has no attribute default. Skip registering the shape inference formula.\n",
      "  warnings.warn(f'Cannot find a {name} in torch.ops.aten because {object} has no attribute {name}. '\n",
      "/usr/local/lib/python3.8/dist-packages/nni/nas/profiler/pytorch/utils/shape_formula.py:107: UserWarning: Cannot find a default in torch.ops.aten because <built-in method relu_ of PyCapsule object at 0x7fd7c6c93b10> has no attribute default. Skip registering the shape inference formula.\n",
      "  warnings.warn(f'Cannot find a {name} in torch.ops.aten because {object} has no attribute {name}. '\n",
      "/usr/local/lib/python3.8/dist-packages/nni/nas/profiler/pytorch/utils/shape_formula.py:107: UserWarning: Cannot find a default in torch.ops.aten because <built-in method hardswish_ of PyCapsule object at 0x7fd7c6c93ab0> has no attribute default. Skip registering the shape inference formula.\n",
      "  warnings.warn(f'Cannot find a {name} in torch.ops.aten because {object} has no attribute {name}. '\n",
      "/usr/local/lib/python3.8/dist-packages/nni/nas/profiler/pytorch/utils/shape_formula.py:107: UserWarning: Cannot find a default in torch.ops.aten because <built-in method hardsigmoid_ of PyCapsule object at 0x7fd7c6c93a80> has no attribute default. Skip registering the shape inference formula.\n",
      "  warnings.warn(f'Cannot find a {name} in torch.ops.aten because {object} has no attribute {name}. '\n",
      "/usr/local/lib/python3.8/dist-packages/nni/nas/profiler/pytorch/utils/shape_formula.py:107: UserWarning: Cannot find a default in torch.ops.aten because <built-in method hardtanh_ of PyCapsule object at 0x7fd7c6c93ba0> has no attribute default. Skip registering the shape inference formula.\n",
      "  warnings.warn(f'Cannot find a {name} in torch.ops.aten because {object} has no attribute {name}. '\n",
      "/usr/local/lib/python3.8/dist-packages/nni/nas/profiler/pytorch/utils/shape_formula.py:107: UserWarning: Cannot find a default in torch.ops.aten because <built-in method permute of PyCapsule object at 0x7fd7c6c93bd0> has no attribute default. Skip registering the shape inference formula.\n",
      "  warnings.warn(f'Cannot find a {name} in torch.ops.aten because {object} has no attribute {name}. '\n",
      "/usr/local/lib/python3.8/dist-packages/nni/nas/profiler/pytorch/utils/shape_formula.py:107: UserWarning: Cannot find a int in torch.ops.aten because <built-in method select of PyCapsule object at 0x7fd7c6c93c00> has no attribute int. Skip registering the shape inference formula.\n",
      "  warnings.warn(f'Cannot find a {name} in torch.ops.aten because {object} has no attribute {name}. '\n",
      "/usr/local/lib/python3.8/dist-packages/nni/nas/profiler/pytorch/utils/shape_formula.py:107: UserWarning: Cannot find a default in torch.ops.aten because <built-in method cat of PyCapsule object at 0x7fd7c6c93c30> has no attribute default. Skip registering the shape inference formula.\n",
      "  warnings.warn(f'Cannot find a {name} in torch.ops.aten because {object} has no attribute {name}. '\n",
      "/usr/local/lib/python3.8/dist-packages/nni/nas/profiler/pytorch/utils/shape_formula.py:107: UserWarning: Cannot find a dim in torch.ops.aten because <built-in method mean of PyCapsule object at 0x7fd7c6c93c60> has no attribute dim. Skip registering the shape inference formula.\n",
      "  warnings.warn(f'Cannot find a {name} in torch.ops.aten because {object} has no attribute {name}. '\n",
      "/usr/local/lib/python3.8/dist-packages/nni/nas/profiler/pytorch/utils/shape_formula.py:107: UserWarning: Cannot find a default in torch.ops.aten because <built-in method _log_softmax of PyCapsule object at 0x7fd7c6c93c90> has no attribute default. Skip registering the shape inference formula.\n",
      "  warnings.warn(f'Cannot find a {name} in torch.ops.aten because {object} has no attribute {name}. '\n",
      "/usr/local/lib/python3.8/dist-packages/nni/nas/profiler/pytorch/utils/shape_formula.py:107: UserWarning: Cannot find a default in torch.ops.aten because <built-in method _reshape_alias of PyCapsule object at 0x7fd7c6c93cc0> has no attribute default. Skip registering the shape inference formula.\n",
      "  warnings.warn(f'Cannot find a {name} in torch.ops.aten because {object} has no attribute {name}. '\n",
      "/usr/local/lib/python3.8/dist-packages/nni/nas/profiler/pytorch/utils/shape_formula.py:107: UserWarning: Cannot find a default in torch.ops.aten because <built-in method view of PyCapsule object at 0x7fd7c6c93cf0> has no attribute default. Skip registering the shape inference formula.\n",
      "  warnings.warn(f'Cannot find a {name} in torch.ops.aten because {object} has no attribute {name}. '\n",
      "/usr/local/lib/python3.8/dist-packages/nni/nas/profiler/pytorch/utils/shape_formula.py:107: UserWarning: Cannot find a Tensor in torch.ops.aten because <built-in method add of PyCapsule object at 0x7fd7c6c93d20> has no attribute Tensor. Skip registering the shape inference formula.\n",
      "  warnings.warn(f'Cannot find a {name} in torch.ops.aten because {object} has no attribute {name}. '\n",
      "/usr/local/lib/python3.8/dist-packages/nni/nas/profiler/pytorch/utils/shape_formula.py:107: UserWarning: Cannot find a Tensor in torch.ops.aten because <built-in method mul of PyCapsule object at 0x7fd7c6c93d50> has no attribute Tensor. Skip registering the shape inference formula.\n",
      "  warnings.warn(f'Cannot find a {name} in torch.ops.aten because {object} has no attribute {name}. '\n",
      "/usr/local/lib/python3.8/dist-packages/nni/nas/profiler/pytorch/utils/shape_formula.py:107: UserWarning: Cannot find a Tensor in torch.ops.aten because <built-in method slice of PyCapsule object at 0x7fd7c6c93d80> has no attribute Tensor. Skip registering the shape inference formula.\n",
      "  warnings.warn(f'Cannot find a {name} in torch.ops.aten because {object} has no attribute {name}. '\n"
     ]
    },
    {
     "name": "stdout",
     "output_type": "stream",
     "text": [
      "[2024-01-24 16:58:29] \u001b[32m\"/root/.cache/nni/nashub/darts-v2-5465b0d2.pth\" already exists. Checking hash.\u001b[0m\n",
      "Accuracy: 0.9737\n"
     ]
    },
    {
     "data": {
      "text/plain": [
       "0.9737"
      ]
     },
     "execution_count": 3,
     "metadata": {},
     "output_type": "execute_result"
    }
   ],
   "source": [
    "from nni.nas.hub.pytorch import DARTS as DartsSpace\n",
    "\n",
    "darts_v2_model = DartsSpace.load_searched_model('darts-v2', pretrained=True, download=True)\n",
    "\n",
    "def evaluate_model(model, cuda=False):\n",
    "    device = torch.device('cuda' if cuda else 'cpu')\n",
    "    model.to(device)\n",
    "    model.eval()\n",
    "    with torch.no_grad():\n",
    "        correct = total = 0\n",
    "        for inputs, targets in valid_loader:\n",
    "            inputs, targets = inputs.to(device), targets.to(device)\n",
    "            logits = model(inputs)\n",
    "            _, predict = torch.max(logits, 1)\n",
    "            correct += (predict == targets).sum().cpu().item()\n",
    "            total += targets.size(0)\n",
    "    print('Accuracy:', correct / total)\n",
    "    return correct / total\n",
    "\n",
    "evaluate_model(darts_v2_model, cuda=True)  # Set this to false if there's no GPU.\n"
   ]
  },
  {
   "cell_type": "code",
   "execution_count": 4,
   "metadata": {},
   "outputs": [],
   "source": [
    "model_space = DartsSpace(\n",
    "    width=16,           # the initial filters (channel number) for the model\n",
    "    num_cells=8,        # the number of stacked cells in total\n",
    "    dataset='cifar'     # to give a hint about input resolution, here is 32x32\n",
    ")\n"
   ]
  },
  {
   "cell_type": "code",
   "execution_count": 5,
   "metadata": {},
   "outputs": [
    {
     "name": "stdout",
     "output_type": "stream",
     "text": [
      "Files already downloaded and verified\n"
     ]
    },
    {
     "name": "stderr",
     "output_type": "stream",
     "text": [
      "GPU available: True, used: True\n",
      "TPU available: False, using: 0 TPU cores\n",
      "IPU available: False, using: 0 IPUs\n",
      "HPU available: False, using: 0 HPUs\n",
      "Running in fast_dev_run mode: will run a full train, val, test and prediction loop using 1 batch(es).\n",
      "`Trainer(limit_train_batches=1)` was configured so 1 batch per epoch will be used.\n",
      "`Trainer(limit_val_batches=1)` was configured so 1 batch will be used.\n",
      "`Trainer(limit_test_batches=1)` was configured so 1 batch will be used.\n",
      "`Trainer(limit_predict_batches=1)` was configured so 1 batch will be used.\n",
      "`Trainer(val_check_interval=1.0)` was configured so validation will run at the end of the training epoch..\n"
     ]
    }
   ],
   "source": [
    "import numpy as np\n",
    "from nni.nas.evaluator.pytorch import Classification\n",
    "from torch.utils.data import SubsetRandomSampler\n",
    "\n",
    "transform = transforms.Compose([\n",
    "    transforms.RandomCrop(32, padding=4),\n",
    "    transforms.RandomHorizontalFlip(),\n",
    "    transforms.ToTensor(),\n",
    "    transforms.Normalize(CIFAR_MEAN, CIFAR_STD),\n",
    "])\n",
    "\n",
    "train_data = nni.trace(CIFAR10)(root='./data', train=True, download=True, transform=transform)\n",
    "\n",
    "num_samples = len(train_data)\n",
    "indices = np.random.permutation(num_samples)\n",
    "split = num_samples // 2\n",
    "\n",
    "search_train_loader = DataLoader(\n",
    "    train_data, batch_size=64, num_workers=6,\n",
    "    sampler=SubsetRandomSampler(indices[:split]),\n",
    ")\n",
    "\n",
    "search_valid_loader = DataLoader(\n",
    "    train_data, batch_size=64, num_workers=6,\n",
    "    sampler=SubsetRandomSampler(indices[split:]),\n",
    ")\n",
    "\n",
    "evaluator = Classification(\n",
    "    learning_rate=1e-3,\n",
    "    weight_decay=1e-4,\n",
    "    train_dataloaders=search_train_loader,\n",
    "    val_dataloaders=search_valid_loader,\n",
    "    max_epochs=10,\n",
    "    gpus=1,\n",
    "    fast_dev_run=True,\n",
    "    num_classes=10\n",
    ")\n"
   ]
  },
  {
   "cell_type": "code",
   "execution_count": 6,
   "metadata": {},
   "outputs": [],
   "source": [
    "from nni.nas.strategy import DARTS as DartsStrategy\n",
    "\n",
    "strategy = DartsStrategy()"
   ]
  },
  {
   "cell_type": "code",
   "execution_count": 7,
   "metadata": {},
   "outputs": [
    {
     "name": "stdout",
     "output_type": "stream",
     "text": [
      "[2024-01-24 16:58:47] \u001b[32mConfig is not provided. Will try to infer.\u001b[0m\n",
      "[2024-01-24 16:58:47] \u001b[32mStrategy is found to be a one-shot strategy. Setting execution engine to \"sequential\" and format to \"raw\".\u001b[0m\n",
      "[2024-01-24 16:58:47] \u001b[33mWARNING: `training_service` will be ignored for sequential execution engine.\u001b[0m\n",
      "[2024-01-24 16:58:47] \u001b[33mWARNING: `training_service` will be ignored for sequential execution engine.\u001b[0m\n",
      "[2024-01-24 16:58:47] \u001b[33mWARNING: `training_service` will be ignored for sequential execution engine.\u001b[0m\n",
      "[2024-01-24 16:58:52] \u001b[33mWARNING: `training_service` will be ignored for sequential execution engine.\u001b[0m\n",
      "[2024-01-24 16:58:52] \u001b[33mWARNING: `training_service` will be ignored for sequential execution engine.\u001b[0m\n",
      "[2024-01-24 16:58:52] \u001b[33mWARNING: `training_service` will be ignored for sequential execution engine.\u001b[0m\n",
      "[2024-01-24 16:58:52] \u001b[33mWARNING: `training_service` will be ignored for sequential execution engine.\u001b[0m\n",
      "[2024-01-24 16:58:52] \u001b[33mWARNING: `training_service` will be ignored for sequential execution engine.\u001b[0m\n",
      "[2024-01-24 16:58:52] \u001b[33mWARNING: Checkpoint callback does not have last_model_path or best_model_path attribute. Either the strategy has not started, or it did not save any checkpoint: <pytorch_lightning.callbacks.model_checkpoint.ModelCheckpoint object at 0x7fd9e391b4f0>\u001b[0m\n",
      "[2024-01-24 16:58:52] \u001b[33mWARNING: `training_service` will be ignored for sequential execution engine.\u001b[0m\n",
      "[2024-01-24 16:58:52] \u001b[33mWARNING: `training_service` will be ignored for sequential execution engine.\u001b[0m\n",
      "[2024-01-24 16:58:52] \u001b[32mCheckpoint saved to /root/nni-experiments/de5g7jt2/checkpoint.\u001b[0m\n",
      "[2024-01-24 16:58:52] \u001b[32mExperiment initialized successfully. Starting exploration strategy...\u001b[0m\n",
      "[2024-01-24 16:58:52] \u001b[33mWARNING: Validation dataloaders are missing. Safe to ignore this warning when using one-shot strategy.\u001b[0m\n"
     ]
    },
    {
     "name": "stderr",
     "output_type": "stream",
     "text": [
      "LOCAL_RANK: 0 - CUDA_VISIBLE_DEVICES: [0,1,2,3,4,5,6,7,8,9,10,11,12,13,14,15]\n",
      "\n",
      "  | Name            | Type                 | Params\n",
      "---------------------------------------------------------\n",
      "0 | training_module | ClassificationModule | 2.0 M \n",
      "---------------------------------------------------------\n",
      "2.0 M     Trainable params\n",
      "0         Non-trainable params\n",
      "2.0 M     Total params\n",
      "7.950     Total estimated model params size (MB)\n",
      "/usr/local/lib/python3.8/dist-packages/pytorch_lightning/trainer/trainer.py:1927: PossibleUserWarning: The number of training batches (1) is smaller than the logging interval Trainer(log_every_n_steps=50). Set a lower value for log_every_n_steps if you want to see logs for the training epoch.\n",
      "  rank_zero_warn(\n"
     ]
    },
    {
     "data": {
      "application/vnd.jupyter.widget-view+json": {
       "model_id": "2b777cbe94434549b468c079b062336b",
       "version_major": 2,
       "version_minor": 0
      },
      "text/plain": [
       "Training: 0it [00:00, ?it/s]"
      ]
     },
     "metadata": {},
     "output_type": "display_data"
    },
    {
     "name": "stdout",
     "output_type": "stream",
     "text": [
      "[2024-01-24 16:59:13] \u001b[32mWaiting for models submitted to engine to finish...\u001b[0m\n",
      "[2024-01-24 16:59:13] \u001b[32mExperiment is completed.\u001b[0m\n",
      "[2024-01-24 16:59:13] \u001b[33mWARNING: `training_service` will be ignored for sequential execution engine.\u001b[0m\n"
     ]
    },
    {
     "data": {
      "text/plain": [
       "True"
      ]
     },
     "execution_count": 7,
     "metadata": {},
     "output_type": "execute_result"
    }
   ],
   "source": [
    "from nni.nas.experiment import NasExperiment\n",
    "\n",
    "experiment = NasExperiment(model_space, evaluator, strategy)\n",
    "experiment.run()\n"
   ]
  },
  {
   "cell_type": "code",
   "execution_count": 8,
   "metadata": {},
   "outputs": [
    {
     "name": "stdout",
     "output_type": "stream",
     "text": [
      "[2024-01-24 16:59:13] \u001b[32mSorted weights in differentiable cell export (normal cell, node 2): [(0.001859489013440907, 1, 'skip_connect'), (0.0018236733740195632, 0, 'dil_conv_5x5'), (0.0014605340547859669, 0, 'avg_pool_3x3'), (0.0010679308325052261, 0, 'sep_conv_5x5'), (0.0009991331025958061, 1, 'sep_conv_3x3'), (0.0006362202693708241, 0, 'dil_conv_3x3'), (0.0005384317482821643, 0, 'skip_connect'), (0.00024037530238274485, 1, 'max_pool_3x3'), (1.9297374819871038e-05, 0, 'max_pool_3x3'), (-1.6804688129923306e-05, 1, 'sep_conv_5x5'), (-0.0006067798240110278, 0, 'sep_conv_3x3'), (-0.0010500650387257338, 1, 'dil_conv_5x5'), (-0.0012172305723652244, 1, 'dil_conv_3x3'), (-0.0016504812519997358, 1, 'avg_pool_3x3')]\u001b[0m\n",
      "[2024-01-24 16:59:13] \u001b[32mSorted weights in differentiable cell export (normal cell, node 3): [(0.002360126469284296, 2, 'max_pool_3x3'), (0.002219046000391245, 1, 'sep_conv_3x3'), (0.002118476666510105, 0, 'dil_conv_3x3'), (0.002080781850963831, 0, 'sep_conv_3x3'), (0.001574288704432547, 0, 'max_pool_3x3'), (0.0014201848534867167, 2, 'dil_conv_3x3'), (0.0011665935162454844, 1, 'dil_conv_5x5'), (0.0008252860861830413, 2, 'skip_connect'), (0.0006015287945047021, 2, 'sep_conv_5x5'), (0.0005944321164861321, 1, 'avg_pool_3x3'), (5.565280662267469e-05, 1, 'sep_conv_5x5'), (-3.201746949343942e-05, 1, 'skip_connect'), (-0.00017468022997491062, 0, 'dil_conv_5x5'), (-0.00020812172442674637, 0, 'skip_connect'), (-0.0007536871125921607, 1, 'max_pool_3x3'), (-0.0008294000872410834, 1, 'dil_conv_3x3'), (-0.0009006229811348021, 2, 'dil_conv_5x5'), (-0.0011759161716327071, 2, 'avg_pool_3x3'), (-0.0012715691700577736, 2, 'sep_conv_3x3'), (-0.0018916516564786434, 0, 'sep_conv_5x5'), (-0.0020535129588097334, 0, 'avg_pool_3x3')]\u001b[0m\n",
      "[2024-01-24 16:59:13] \u001b[32mSorted weights in differentiable cell export (normal cell, node 4): [(0.0016746389446780086, 2, 'dil_conv_3x3'), (0.0012392271310091019, 1, 'max_pool_3x3'), (0.001132626668550074, 3, 'dil_conv_5x5'), (0.00024046722683124244, 0, 'skip_connect'), (0.001476553617976606, 2, 'sep_conv_3x3'), (0.0010946874972432852, 1, 'dil_conv_5x5'), (0.0010254537919536233, 2, 'avg_pool_3x3'), (0.0008692105766385794, 2, 'skip_connect'), (0.0005887841689400375, 3, 'skip_connect'), (0.00048698982573114336, 3, 'sep_conv_5x5'), (0.00013259236584417522, 0, 'avg_pool_3x3'), (6.799148832214996e-05, 3, 'dil_conv_3x3'), (-4.3799700506497175e-05, 0, 'dil_conv_3x3'), (-8.27785988803953e-05, 1, 'avg_pool_3x3'), (-0.00014149872004054487, 0, 'sep_conv_5x5'), (-0.00024989809026010334, 1, 'sep_conv_5x5'), (-0.00025408665533177555, 2, 'dil_conv_5x5'), (-0.0002556754625402391, 1, 'dil_conv_3x3'), (-0.0003290595195721835, 3, 'max_pool_3x3'), (-0.0004834748979192227, 2, 'max_pool_3x3'), (-0.0008723169448785484, 0, 'max_pool_3x3'), (-0.0008815854671411216, 3, 'avg_pool_3x3'), (-0.0009709324804134667, 1, 'sep_conv_3x3'), (-0.0011148428311571479, 0, 'sep_conv_3x3'), (-0.0013920670608058572, 1, 'skip_connect'), (-0.0014674733392894268, 2, 'sep_conv_5x5'), (-0.0018739026272669435, 0, 'dil_conv_5x5'), (-0.001885250792838633, 3, 'sep_conv_3x3')]\u001b[0m\n",
      "[2024-01-24 16:59:13] \u001b[32mSorted weights in differentiable cell export (normal cell, node 5): [(0.0033696943428367376, 1, 'max_pool_3x3'), (0.0024139280430972576, 2, 'sep_conv_5x5'), (0.0018301832024008036, 3, 'skip_connect'), (0.001198840793222189, 4, 'dil_conv_5x5'), (0.0010402024490758777, 0, 'sep_conv_5x5'), (0.0016357081476598978, 2, 'max_pool_3x3'), (0.0009636502363719046, 4, 'sep_conv_3x3'), (0.0008837995119392872, 2, 'dil_conv_3x3'), (0.0007458724430762231, 3, 'dil_conv_5x5'), (0.000646001601126045, 0, 'dil_conv_5x5'), (0.0006406489992514253, 3, 'max_pool_3x3'), (0.0003368719480931759, 1, 'skip_connect'), (0.00029576191445812583, 0, 'skip_connect'), (9.48825545492582e-05, 0, 'max_pool_3x3'), (3.3560612791916355e-05, 1, 'dil_conv_5x5'), (-5.984145900583826e-05, 1, 'sep_conv_5x5'), (-6.307884177658707e-05, 0, 'sep_conv_3x3'), (-8.645669731777161e-05, 2, 'avg_pool_3x3'), (-0.00012034905375912786, 0, 'avg_pool_3x3'), (-0.00012148662790423259, 3, 'avg_pool_3x3'), (-0.0001300400181207806, 4, 'sep_conv_5x5'), (-0.00021582265617325902, 1, 'sep_conv_3x3'), (-0.00022906373487785459, 2, 'dil_conv_5x5'), (-0.0002529302437324077, 2, 'skip_connect'), (-0.00028203034889884293, 4, 'dil_conv_3x3'), (-0.000319568527629599, 1, 'dil_conv_3x3'), (-0.0003854879760183394, 3, 'sep_conv_3x3'), (-0.0005987148615531623, 4, 'max_pool_3x3'), (-0.0006266321870498359, 3, 'sep_conv_5x5'), (-0.000634177471511066, 4, 'skip_connect'), (-0.0008135898970067501, 0, 'dil_conv_3x3'), (-0.0008283270290121436, 3, 'dil_conv_3x3'), (-0.0013665386941283941, 2, 'sep_conv_3x3'), (-0.0013812793185934424, 1, 'avg_pool_3x3'), (-0.003259829943999648, 4, 'avg_pool_3x3')]\u001b[0m\n",
      "[2024-01-24 16:59:13] \u001b[32mSorted weights in differentiable cell export (reduce cell, node 2): [(0.001784082967787981, 1, 'sep_conv_5x5'), (0.0016156734200194478, 0, 'max_pool_3x3'), (0.001379618770442903, 0, 'avg_pool_3x3'), (0.0007126684649847448, 1, 'sep_conv_3x3'), (0.0005490466137416661, 0, 'sep_conv_3x3'), (0.0004508023557718843, 1, 'avg_pool_3x3'), (0.0003097781154792756, 0, 'sep_conv_5x5'), (3.598657713155262e-05, 1, 'dil_conv_5x5'), (-0.00012707957648672163, 0, 'dil_conv_3x3'), (-0.0006129226530902088, 0, 'dil_conv_5x5'), (-0.000616877747233957, 0, 'skip_connect'), (-0.0007779846200719476, 1, 'dil_conv_3x3'), (-0.0010884975781664252, 1, 'skip_connect'), (-0.0018666376126930118, 1, 'max_pool_3x3')]\u001b[0m\n",
      "[2024-01-24 16:59:13] \u001b[32mSorted weights in differentiable cell export (reduce cell, node 3): [(0.0020332755520939827, 1, 'dil_conv_5x5'), (0.0012795686488971114, 0, 'avg_pool_3x3'), (0.0012223601806908846, 2, 'max_pool_3x3'), (0.0014213280519470572, 1, 'avg_pool_3x3'), (0.0010014459257945418, 2, 'avg_pool_3x3'), (0.0009442174341529608, 0, 'dil_conv_3x3'), (0.0008307199459522963, 2, 'sep_conv_5x5'), (0.0007634545327164233, 0, 'dil_conv_5x5'), (0.0006236828630790114, 1, 'sep_conv_3x3'), (0.0004240299458615482, 0, 'sep_conv_3x3'), (0.00029695796547457576, 0, 'max_pool_3x3'), (0.00017748502432368696, 0, 'sep_conv_5x5'), (-0.00018331575847696513, 2, 'sep_conv_3x3'), (-0.00019871999393217266, 1, 'skip_connect'), (-0.00021773093612864614, 0, 'skip_connect'), (-0.0006303403642959893, 2, 'dil_conv_3x3'), (-0.0006930493400432169, 1, 'max_pool_3x3'), (-0.0007227605674415827, 2, 'dil_conv_5x5'), (-0.0007644893485121429, 2, 'skip_connect'), (-0.0008520830888301134, 1, 'sep_conv_5x5'), (-0.0011411791201680899, 1, 'dil_conv_3x3')]\u001b[0m\n",
      "[2024-01-24 16:59:13] \u001b[32mSorted weights in differentiable cell export (reduce cell, node 4): [(0.0023802744690328836, 1, 'skip_connect'), (0.002104382496327162, 2, 'avg_pool_3x3'), (0.0013363690814003348, 3, 'avg_pool_3x3'), (0.0008131962968036532, 0, 'dil_conv_5x5'), (0.0014944999711588025, 1, 'sep_conv_3x3'), (0.0011189737124368548, 3, 'dil_conv_5x5'), (0.0011168787023052573, 3, 'sep_conv_5x5'), (0.0010158657096326351, 2, 'dil_conv_5x5'), (0.0008228029473684728, 2, 'max_pool_3x3'), (0.000547796196769923, 3, 'dil_conv_3x3'), (0.0004054732562508434, 2, 'sep_conv_5x5'), (0.0003416293184272945, 1, 'dil_conv_5x5'), (0.0003170246200170368, 2, 'dil_conv_3x3'), (0.0003156826423946768, 2, 'sep_conv_3x3'), (0.000276269594905898, 0, 'dil_conv_3x3'), (0.00023457646602764726, 1, 'max_pool_3x3'), (-0.0002726057718973607, 2, 'skip_connect'), (-0.00028488613315857947, 0, 'avg_pool_3x3'), (-0.00030442397110164165, 0, 'skip_connect'), (-0.000373611634131521, 0, 'sep_conv_3x3'), (-0.0004127549473196268, 3, 'sep_conv_3x3'), (-0.0004139664815738797, 1, 'avg_pool_3x3'), (-0.0004358637088444084, 0, 'sep_conv_5x5'), (-0.0005300514167174697, 3, 'max_pool_3x3'), (-0.0007297799456864595, 1, 'dil_conv_3x3'), (-0.000793742248788476, 1, 'sep_conv_5x5'), (-0.0008160328143276274, 0, 'max_pool_3x3'), (-0.001964386086910963, 3, 'skip_connect')]\u001b[0m\n",
      "[2024-01-24 16:59:13] \u001b[32mSorted weights in differentiable cell export (reduce cell, node 5): [(0.0023661223240196705, 2, 'skip_connect'), (0.0022174662444740534, 0, 'max_pool_3x3'), (0.001153956283815205, 1, 'avg_pool_3x3'), (0.000984187819994986, 3, 'dil_conv_5x5'), (0.0005901989061385393, 4, 'skip_connect'), (0.002156332600861788, 2, 'dil_conv_3x3'), (0.001788794412277639, 0, 'skip_connect'), (0.0015295043122023344, 0, 'sep_conv_3x3'), (0.0014572616200894117, 0, 'sep_conv_5x5'), (0.0010044152149930596, 2, 'dil_conv_5x5'), (0.0006738395895808935, 2, 'sep_conv_5x5'), (0.000668911321554333, 3, 'sep_conv_3x3'), (0.0003243094542995095, 3, 'sep_conv_5x5'), (0.00022055844601709396, 0, 'avg_pool_3x3'), (0.00019021578191313893, 3, 'avg_pool_3x3'), (9.79348988039419e-05, 1, 'sep_conv_5x5'), (4.503558739088476e-05, 2, 'sep_conv_3x3'), (-6.468570791184902e-05, 1, 'dil_conv_5x5'), (-9.580371988704428e-05, 0, 'dil_conv_3x3'), (-0.00011371448636054993, 3, 'dil_conv_3x3'), (-0.00019312876975163817, 3, 'max_pool_3x3'), (-0.0005327912513166666, 4, 'dil_conv_5x5'), (-0.0005335145979188383, 4, 'max_pool_3x3'), (-0.0005927679012529552, 1, 'dil_conv_3x3'), (-0.0006527691730298102, 4, 'sep_conv_5x5'), (-0.0007160532986745238, 1, 'sep_conv_3x3'), (-0.0007288501947186887, 1, 'max_pool_3x3'), (-0.0011908028973266482, 2, 'avg_pool_3x3'), (-0.0012321925023570657, 0, 'dil_conv_5x5'), (-0.0012468736385926604, 4, 'dil_conv_3x3'), (-0.001335380133241415, 1, 'skip_connect'), (-0.0014485656283795834, 4, 'avg_pool_3x3'), (-0.0015702341916039586, 2, 'max_pool_3x3'), (-0.001734878751449287, 3, 'skip_connect'), (-0.0018183981301262975, 4, 'sep_conv_3x3')]\u001b[0m\n"
     ]
    },
    {
     "data": {
      "text/plain": [
       "{'normal/op_2_0': 'skip_connect',\n",
       " 'normal/input_2_0': [1],\n",
       " 'normal/op_2_1': 'dil_conv_5x5',\n",
       " 'normal/input_2_1': [0],\n",
       " 'normal/op_3_0': 'max_pool_3x3',\n",
       " 'normal/input_3_0': [2],\n",
       " 'normal/op_3_1': 'sep_conv_3x3',\n",
       " 'normal/input_3_1': [1],\n",
       " 'normal/op_4_0': 'dil_conv_3x3',\n",
       " 'normal/input_4_0': [2],\n",
       " 'normal/op_4_1': 'max_pool_3x3',\n",
       " 'normal/input_4_1': [1],\n",
       " 'normal/op_5_0': 'max_pool_3x3',\n",
       " 'normal/input_5_0': [1],\n",
       " 'normal/op_5_1': 'sep_conv_5x5',\n",
       " 'normal/input_5_1': [2],\n",
       " 'reduce/op_2_0': 'sep_conv_5x5',\n",
       " 'reduce/input_2_0': [1],\n",
       " 'reduce/op_2_1': 'max_pool_3x3',\n",
       " 'reduce/input_2_1': [0],\n",
       " 'reduce/op_3_0': 'dil_conv_5x5',\n",
       " 'reduce/input_3_0': [1],\n",
       " 'reduce/op_3_1': 'avg_pool_3x3',\n",
       " 'reduce/input_3_1': [0],\n",
       " 'reduce/op_4_0': 'skip_connect',\n",
       " 'reduce/input_4_0': [1],\n",
       " 'reduce/op_4_1': 'avg_pool_3x3',\n",
       " 'reduce/input_4_1': [2],\n",
       " 'reduce/op_5_0': 'skip_connect',\n",
       " 'reduce/input_5_0': [2],\n",
       " 'reduce/op_5_1': 'max_pool_3x3',\n",
       " 'reduce/input_5_1': [0]}"
      ]
     },
     "execution_count": 8,
     "metadata": {},
     "output_type": "execute_result"
    }
   ],
   "source": [
    "exported_arch = experiment.export_top_models(formatter='dict')[0]\n",
    "\n",
    "exported_arch"
   ]
  },
  {
   "cell_type": "code",
   "execution_count": 9,
   "metadata": {},
   "outputs": [
    {
     "name": "stderr",
     "output_type": "stream",
     "text": [
      "GPU available: True, used: True\n",
      "TPU available: False, using: 0 TPU cores\n",
      "IPU available: False, using: 0 IPUs\n",
      "HPU available: False, using: 0 HPUs\n",
      "Running in fast_dev_run mode: will run a full train, val, test and prediction loop using 1 batch(es).\n",
      "`Trainer(limit_train_batches=1)` was configured so 1 batch per epoch will be used.\n",
      "`Trainer(limit_val_batches=1)` was configured so 1 batch will be used.\n",
      "`Trainer(limit_test_batches=1)` was configured so 1 batch will be used.\n",
      "`Trainer(limit_predict_batches=1)` was configured so 1 batch will be used.\n",
      "`Trainer(val_check_interval=1.0)` was configured so validation will run at the end of the training epoch..\n",
      "LOCAL_RANK: 0 - CUDA_VISIBLE_DEVICES: [0,1,2,3,4,5,6,7,8,9,10,11,12,13,14,15]\n",
      "\n",
      "  | Name      | Type             | Params\n",
      "-----------------------------------------------\n",
      "0 | criterion | CrossEntropyLoss | 0     \n",
      "1 | metrics   | ModuleDict       | 0     \n",
      "2 | _model    | DARTS            | 219 K \n",
      "-----------------------------------------------\n",
      "219 K     Trainable params\n",
      "0         Non-trainable params\n",
      "219 K     Total params\n",
      "0.877     Total estimated model params size (MB)\n"
     ]
    },
    {
     "data": {
      "application/vnd.jupyter.widget-view+json": {
       "model_id": "21a124e5e97c44f796241fcfc163acca",
       "version_major": 2,
       "version_minor": 0
      },
      "text/plain": [
       "Training: 0it [00:00, ?it/s]"
      ]
     },
     "metadata": {},
     "output_type": "display_data"
    },
    {
     "data": {
      "application/vnd.jupyter.widget-view+json": {
       "model_id": "ed50b1e7c2454313b94661145e8747bd",
       "version_major": 2,
       "version_minor": 0
      },
      "text/plain": [
       "Validation: 0it [00:00, ?it/s]"
      ]
     },
     "metadata": {},
     "output_type": "display_data"
    },
    {
     "name": "stdout",
     "output_type": "stream",
     "text": [
      "[2024-01-24 16:59:19] \u001b[32mIntermediate result: 0.09375  (Index 0)\u001b[0m\n",
      "[2024-01-24 16:59:19] \u001b[32mFinal result: 0.09375\u001b[0m\n"
     ]
    }
   ],
   "source": [
    "from nni.nas.space import model_context\n",
    "\n",
    "with model_context(exported_arch):\n",
    "    final_model = DartsSpace(width=16, num_cells=8, dataset='cifar')\n",
    "    \n",
    "train_loader = DataLoader(train_data, batch_size=96, num_workers=6)  # Use the original training data\n",
    "\n",
    "max_epochs = 100\n",
    "\n",
    "evaluator = Classification(\n",
    "    learning_rate=1e-3,\n",
    "    weight_decay=1e-4,\n",
    "    train_dataloaders=train_loader,\n",
    "    val_dataloaders=valid_loader,\n",
    "    max_epochs=max_epochs,\n",
    "    gpus=1,\n",
    "    export_onnx=False,          # Disable ONNX export for this experiment\n",
    "    fast_dev_run=True,   # Should be false for fully training\n",
    "    num_classes=10,\n",
    ")\n",
    "\n",
    "evaluator.fit(final_model)"
   ]
  },
  {
   "cell_type": "code",
   "execution_count": null,
   "metadata": {},
   "outputs": [],
   "source": []
  }
 ],
 "metadata": {
  "kernelspec": {
   "display_name": "Python 3",
   "language": "python",
   "name": "python3"
  },
  "language_info": {
   "codemirror_mode": {
    "name": "ipython",
    "version": 3
   },
   "file_extension": ".py",
   "mimetype": "text/x-python",
   "name": "python",
   "nbconvert_exporter": "python",
   "pygments_lexer": "ipython3",
   "version": "3.8.10"
  }
 },
 "nbformat": 4,
 "nbformat_minor": 2
}
