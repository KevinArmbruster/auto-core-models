{
 "cells": [
  {
   "cell_type": "code",
   "execution_count": 9,
   "metadata": {},
   "outputs": [],
   "source": [
    "%load_ext autoreload\n",
    "%autoreload 2\n",
    "\n",
    "import searchspace_causal_cnn"
   ]
  },
  {
   "cell_type": "code",
   "execution_count": 11,
   "metadata": {},
   "outputs": [
    {
     "ename": "ValueError",
     "evalue": "Label must be specified manually in NAS, or provide a `label_prefix` to the model space.",
     "output_type": "error",
     "traceback": [
      "\u001b[0;31m---------------------------------------------------------------------------\u001b[0m",
      "\u001b[0;31mValueError\u001b[0m                                Traceback (most recent call last)",
      "Cell \u001b[0;32mIn[11], line 1\u001b[0m\n\u001b[0;32m----> 1\u001b[0m enc \u001b[38;5;241m=\u001b[39m \u001b[43msearchspace_causal_cnn\u001b[49m\u001b[38;5;241;43m.\u001b[39;49m\u001b[43mCausalCNNEncoder\u001b[49m\u001b[43m(\u001b[49m\u001b[38;5;241;43m3\u001b[39;49m\u001b[43m,\u001b[49m\u001b[38;5;241;43m3\u001b[39;49m\u001b[43m,\u001b[49m\u001b[38;5;241;43m3\u001b[39;49m\u001b[43m,\u001b[49m\u001b[38;5;241;43m3\u001b[39;49m\u001b[43m,\u001b[49m\u001b[38;5;241;43m3\u001b[39;49m\u001b[43m,\u001b[49m\u001b[38;5;241;43m3\u001b[39;49m\u001b[43m)\u001b[49m\n\u001b[1;32m      2\u001b[0m enc\n",
      "File \u001b[0;32m/usr/local/lib/python3.8/dist-packages/nni/nas/nn/pytorch/base.py:458\u001b[0m, in \u001b[0;36mmodel_space_init_wrapper.<locals>.new_init\u001b[0;34m(self, *args, **kwargs)\u001b[0m\n\u001b[1;32m    455\u001b[0m \u001b[38;5;28;01mif\u001b[39;00m \u001b[38;5;28mhasattr\u001b[39m(\u001b[38;5;28mself\u001b[39m, \u001b[38;5;124m'\u001b[39m\u001b[38;5;124m_label_scope\u001b[39m\u001b[38;5;124m'\u001b[39m) \u001b[38;5;129;01mand\u001b[39;00m \u001b[38;5;129;01mnot\u001b[39;00m \u001b[38;5;28mself\u001b[39m\u001b[38;5;241m.\u001b[39m_label_scope\u001b[38;5;241m.\u001b[39mactivated:  \u001b[38;5;66;03m# type: ignore\u001b[39;00m\n\u001b[1;32m    456\u001b[0m     \u001b[38;5;66;03m# Has a label scope but it's not activated. Create a \"with\".\u001b[39;00m\n\u001b[1;32m    457\u001b[0m     \u001b[38;5;28;01mwith\u001b[39;00m \u001b[38;5;28mself\u001b[39m\u001b[38;5;241m.\u001b[39m_label_scope:  \u001b[38;5;66;03m# type: ignore\u001b[39;00m\n\u001b[0;32m--> 458\u001b[0m         \u001b[38;5;28;01mreturn\u001b[39;00m \u001b[43minit_with_context\u001b[49m\u001b[43m(\u001b[49m\u001b[38;5;28;43mself\u001b[39;49m\u001b[43m,\u001b[49m\u001b[43m \u001b[49m\u001b[38;5;241;43m*\u001b[39;49m\u001b[43margs\u001b[49m\u001b[43m,\u001b[49m\u001b[43m \u001b[49m\u001b[38;5;241;43m*\u001b[39;49m\u001b[38;5;241;43m*\u001b[39;49m\u001b[43mkwargs\u001b[49m\u001b[43m)\u001b[49m\n\u001b[1;32m    459\u001b[0m \u001b[38;5;28;01melse\u001b[39;00m:\n\u001b[1;32m    460\u001b[0m     \u001b[38;5;28;01mreturn\u001b[39;00m init_with_context(\u001b[38;5;28mself\u001b[39m, \u001b[38;5;241m*\u001b[39margs, \u001b[38;5;241m*\u001b[39m\u001b[38;5;241m*\u001b[39mkwargs)\n",
      "File \u001b[0;32m/usr/local/lib/python3.8/dist-packages/nni/nas/nn/pytorch/base.py:440\u001b[0m, in \u001b[0;36mmodel_space_init_wrapper.<locals>.init_with_context\u001b[0;34m(self, *args, **kwargs)\u001b[0m\n\u001b[1;32m    438\u001b[0m     \u001b[38;5;28mself\u001b[39m\u001b[38;5;241m.\u001b[39m_frozen_context \u001b[38;5;241m=\u001b[39m frozen_context()\n\u001b[1;32m    439\u001b[0m     \u001b[38;5;28;01mwith\u001b[39;00m \u001b[38;5;28mself\u001b[39m\u001b[38;5;241m.\u001b[39m_frozen_context:\n\u001b[0;32m--> 440\u001b[0m         \u001b[38;5;28;01mreturn\u001b[39;00m \u001b[43moriginal_init_fn\u001b[49m\u001b[43m(\u001b[49m\u001b[38;5;28;43mself\u001b[39;49m\u001b[43m,\u001b[49m\u001b[43m \u001b[49m\u001b[38;5;241;43m*\u001b[39;49m\u001b[43margs\u001b[49m\u001b[43m,\u001b[49m\u001b[43m \u001b[49m\u001b[38;5;241;43m*\u001b[39;49m\u001b[38;5;241;43m*\u001b[39;49m\u001b[43mkwargs\u001b[49m\u001b[43m)\u001b[49m\n\u001b[1;32m    441\u001b[0m \u001b[38;5;28;01melse\u001b[39;00m:\n\u001b[1;32m    442\u001b[0m     \u001b[38;5;66;03m# Already in context.\u001b[39;00m\n\u001b[1;32m    443\u001b[0m     \u001b[38;5;28mself\u001b[39m\u001b[38;5;241m.\u001b[39m_frozen_context \u001b[38;5;241m=\u001b[39m frozen_context\u001b[38;5;241m.\u001b[39mtop_context()\n",
      "File \u001b[0;32m/workdir/t-loss/networks/searchspace_causal_cnn.py:211\u001b[0m, in \u001b[0;36mCausalCNNEncoder.__init__\u001b[0;34m(self, in_channels, channels, depth, reduced_size, out_channels, kernel_size)\u001b[0m\n\u001b[1;32m    208\u001b[0m \u001b[38;5;28;01mdef\u001b[39;00m \u001b[38;5;21m__init__\u001b[39m(\u001b[38;5;28mself\u001b[39m, in_channels, channels, depth, reduced_size,\n\u001b[1;32m    209\u001b[0m              out_channels, kernel_size):\n\u001b[1;32m    210\u001b[0m     \u001b[38;5;28msuper\u001b[39m(CausalCNNEncoder, \u001b[38;5;28mself\u001b[39m)\u001b[38;5;241m.\u001b[39m\u001b[38;5;21m__init__\u001b[39m()\n\u001b[0;32m--> 211\u001b[0m     causal_cnn \u001b[38;5;241m=\u001b[39m \u001b[43mCausalCNN\u001b[49m\u001b[43m(\u001b[49m\n\u001b[1;32m    212\u001b[0m \u001b[43m        \u001b[49m\u001b[43min_channels\u001b[49m\u001b[43m,\u001b[49m\u001b[43m \u001b[49m\u001b[43mchannels\u001b[49m\u001b[43m,\u001b[49m\u001b[43m \u001b[49m\u001b[43mdepth\u001b[49m\u001b[43m,\u001b[49m\u001b[43m \u001b[49m\u001b[43mreduced_size\u001b[49m\u001b[43m,\u001b[49m\u001b[43m \u001b[49m\u001b[43mkernel_size\u001b[49m\n\u001b[1;32m    213\u001b[0m \u001b[43m    \u001b[49m\u001b[43m)\u001b[49m\n\u001b[1;32m    214\u001b[0m     reduce_size \u001b[38;5;241m=\u001b[39m torch\u001b[38;5;241m.\u001b[39mnn\u001b[38;5;241m.\u001b[39mAdaptiveMaxPool1d(\u001b[38;5;241m1\u001b[39m)\n\u001b[1;32m    215\u001b[0m     squeeze \u001b[38;5;241m=\u001b[39m SqueezeChannels()  \u001b[38;5;66;03m# Squeezes the third dimension (time)\u001b[39;00m\n",
      "File \u001b[0;32m/workdir/t-loss/networks/searchspace_causal_cnn.py:176\u001b[0m, in \u001b[0;36mCausalCNN.__init__\u001b[0;34m(self, in_channels, channels, depth, out_channels, kernel_size)\u001b[0m\n\u001b[1;32m    171\u001b[0m     layers \u001b[38;5;241m+\u001b[39m\u001b[38;5;241m=\u001b[39m [CausalConvolutionBlock(\n\u001b[1;32m    172\u001b[0m         in_channels_block, channels, kernel_size, dilation_size\n\u001b[1;32m    173\u001b[0m     )]\n\u001b[1;32m    174\u001b[0m     dilation_size \u001b[38;5;241m*\u001b[39m\u001b[38;5;241m=\u001b[39m \u001b[38;5;241m2\u001b[39m  \u001b[38;5;66;03m# Doubles the dilation size at each step\u001b[39;00m\n\u001b[0;32m--> 176\u001b[0m layers \u001b[38;5;241m=\u001b[39m \u001b[43mRepeat\u001b[49m\u001b[43m(\u001b[49m\u001b[43mblocks\u001b[49m\u001b[38;5;241;43m=\u001b[39;49m\u001b[43mlayers\u001b[49m\u001b[43m,\u001b[49m\u001b[43m \u001b[49m\u001b[43mdepth\u001b[49m\u001b[38;5;241;43m=\u001b[39;49m\u001b[43m(\u001b[49m\u001b[38;5;241;43m1\u001b[39;49m\u001b[43m,\u001b[49m\u001b[43m \u001b[49m\u001b[43mdepth\u001b[49m\u001b[43m)\u001b[49m\u001b[43m)\u001b[49m\n\u001b[1;32m    178\u001b[0m \u001b[38;5;66;03m# Last layer\u001b[39;00m\n\u001b[1;32m    179\u001b[0m last_layer \u001b[38;5;241m=\u001b[39m [CausalConvolutionBlock(\n\u001b[1;32m    180\u001b[0m     channels, out_channels, kernel_size, dilation_size\n\u001b[1;32m    181\u001b[0m )]\n",
      "File \u001b[0;32m/usr/local/lib/python3.8/dist-packages/nni/nas/nn/pytorch/repeat.py:125\u001b[0m, in \u001b[0;36mRepeat.__init__\u001b[0;34m(self, blocks, depth, label)\u001b[0m\n\u001b[1;32m    123\u001b[0m     \u001b[38;5;28mself\u001b[39m\u001b[38;5;241m.\u001b[39mmin_depth \u001b[38;5;241m=\u001b[39m depth \u001b[38;5;28;01mif\u001b[39;00m \u001b[38;5;28misinstance\u001b[39m(depth, \u001b[38;5;28mint\u001b[39m) \u001b[38;5;28;01melse\u001b[39;00m depth[\u001b[38;5;241m0\u001b[39m]\n\u001b[1;32m    124\u001b[0m     \u001b[38;5;28mself\u001b[39m\u001b[38;5;241m.\u001b[39mmax_depth \u001b[38;5;241m=\u001b[39m depth \u001b[38;5;28;01mif\u001b[39;00m \u001b[38;5;28misinstance\u001b[39m(depth, \u001b[38;5;28mint\u001b[39m) \u001b[38;5;28;01melse\u001b[39;00m depth[\u001b[38;5;241m1\u001b[39m]\n\u001b[0;32m--> 125\u001b[0m     \u001b[38;5;28mself\u001b[39m\u001b[38;5;241m.\u001b[39mdepth_choice: Union[\u001b[38;5;28mint\u001b[39m, MutableExpression] \u001b[38;5;241m=\u001b[39m \u001b[43mCategorical\u001b[49m\u001b[43m(\u001b[49m\u001b[38;5;28;43mlist\u001b[39;49m\u001b[43m(\u001b[49m\u001b[38;5;28;43mrange\u001b[39;49m\u001b[43m(\u001b[49m\u001b[38;5;28;43mself\u001b[39;49m\u001b[38;5;241;43m.\u001b[39;49m\u001b[43mmin_depth\u001b[49m\u001b[43m,\u001b[49m\u001b[43m \u001b[49m\u001b[38;5;28;43mself\u001b[39;49m\u001b[38;5;241;43m.\u001b[39;49m\u001b[43mmax_depth\u001b[49m\u001b[43m \u001b[49m\u001b[38;5;241;43m+\u001b[39;49m\u001b[43m \u001b[49m\u001b[38;5;241;43m1\u001b[39;49m\u001b[43m)\u001b[49m\u001b[43m)\u001b[49m\u001b[43m,\u001b[49m\u001b[43m \u001b[49m\u001b[43mlabel\u001b[49m\u001b[38;5;241;43m=\u001b[39;49m\u001b[43mlabel\u001b[49m\u001b[43m)\u001b[49m\n\u001b[1;32m    126\u001b[0m     \u001b[38;5;28mself\u001b[39m\u001b[38;5;241m.\u001b[39m_label \u001b[38;5;241m=\u001b[39m \u001b[38;5;28mself\u001b[39m\u001b[38;5;241m.\u001b[39mdepth_choice\u001b[38;5;241m.\u001b[39mlabel\n\u001b[1;32m    128\u001b[0m \u001b[38;5;28;01melif\u001b[39;00m \u001b[38;5;28misinstance\u001b[39m(depth, \u001b[38;5;28mint\u001b[39m):\n",
      "File \u001b[0;32m/usr/local/lib/python3.8/dist-packages/nni/mutable/mutable.py:663\u001b[0m, in \u001b[0;36mCategorical.__init__\u001b[0;34m(self, values, weights, default, label)\u001b[0m\n\u001b[1;32m    661\u001b[0m values \u001b[38;5;241m=\u001b[39m \u001b[38;5;28mlist\u001b[39m(values)\n\u001b[1;32m    662\u001b[0m \u001b[38;5;28;01massert\u001b[39;00m values, \u001b[38;5;124m'\u001b[39m\u001b[38;5;124mCategorical values must not be empty.\u001b[39m\u001b[38;5;124m'\u001b[39m\n\u001b[0;32m--> 663\u001b[0m \u001b[38;5;28mself\u001b[39m\u001b[38;5;241m.\u001b[39mlabel: \u001b[38;5;28mstr\u001b[39m \u001b[38;5;241m=\u001b[39m \u001b[43mauto_label\u001b[49m\u001b[43m(\u001b[49m\u001b[43mlabel\u001b[49m\u001b[43m)\u001b[49m\n\u001b[1;32m    664\u001b[0m \u001b[38;5;28mself\u001b[39m\u001b[38;5;241m.\u001b[39mvalues: \u001b[38;5;28mlist\u001b[39m[Choice] \u001b[38;5;241m=\u001b[39m values\n\u001b[1;32m    665\u001b[0m \u001b[38;5;28mself\u001b[39m\u001b[38;5;241m.\u001b[39mweights \u001b[38;5;241m=\u001b[39m weights \u001b[38;5;28;01mif\u001b[39;00m weights \u001b[38;5;129;01mis\u001b[39;00m \u001b[38;5;129;01mnot\u001b[39;00m \u001b[38;5;28;01mNone\u001b[39;00m \u001b[38;5;28;01melse\u001b[39;00m [\u001b[38;5;241m1\u001b[39m \u001b[38;5;241m/\u001b[39m \u001b[38;5;28mlen\u001b[39m(values)] \u001b[38;5;241m*\u001b[39m \u001b[38;5;28mlen\u001b[39m(values)\n",
      "File \u001b[0;32m/usr/local/lib/python3.8/dist-packages/nni/mutable/utils.py:371\u001b[0m, in \u001b[0;36mauto_label\u001b[0;34m(name, scope)\u001b[0m\n\u001b[1;32m    368\u001b[0m     \u001b[38;5;28;01mreturn\u001b[39;00m cast(\u001b[38;5;28mstr\u001b[39m, label([\u001b[38;5;241m*\u001b[39mcast(List[\u001b[38;5;28mstr\u001b[39m], scope\u001b[38;5;241m.\u001b[39mpath), name]))\n\u001b[1;32m    370\u001b[0m \u001b[38;5;66;03m# Fake a label scope and return its name directly.\u001b[39;00m\n\u001b[0;32m--> 371\u001b[0m \u001b[38;5;28;01mwith\u001b[39;00m label_scope(name) \u001b[38;5;28;01mas\u001b[39;00m scope:\n\u001b[1;32m    372\u001b[0m     \u001b[38;5;28;01massert\u001b[39;00m scope\u001b[38;5;241m.\u001b[39mpath \u001b[38;5;129;01mis\u001b[39;00m \u001b[38;5;129;01mnot\u001b[39;00m \u001b[38;5;28;01mNone\u001b[39;00m\n\u001b[1;32m    373\u001b[0m     \u001b[38;5;28;01mreturn\u001b[39;00m cast(\u001b[38;5;28mstr\u001b[39m, label(scope\u001b[38;5;241m.\u001b[39mpath))\n",
      "File \u001b[0;32m/usr/local/lib/python3.8/dist-packages/nni/mutable/utils.py:194\u001b[0m, in \u001b[0;36mlabel_scope.__enter__\u001b[0;34m(self)\u001b[0m\n\u001b[1;32m    192\u001b[0m         \u001b[38;5;66;03m# No parent and doesn't have a name, put it under global namespace.\u001b[39;00m\n\u001b[1;32m    193\u001b[0m         parent_scope \u001b[38;5;241m=\u001b[39m label_scope\u001b[38;5;241m.\u001b[39mglobal_()\n\u001b[0;32m--> 194\u001b[0m     \u001b[38;5;28mself\u001b[39m\u001b[38;5;241m.\u001b[39mbasename \u001b[38;5;241m=\u001b[39m \u001b[43mparent_scope\u001b[49m\u001b[38;5;241;43m.\u001b[39;49m\u001b[43mnext_label\u001b[49m\u001b[43m(\u001b[49m\u001b[43m)\u001b[49m\n\u001b[1;32m    196\u001b[0m \u001b[38;5;28;01mif\u001b[39;00m parent_scope \u001b[38;5;129;01mis\u001b[39;00m \u001b[38;5;129;01mnot\u001b[39;00m \u001b[38;5;28;01mNone\u001b[39;00m:\n\u001b[1;32m    197\u001b[0m     \u001b[38;5;28;01massert\u001b[39;00m parent_scope\u001b[38;5;241m.\u001b[39mpath \u001b[38;5;129;01mis\u001b[39;00m \u001b[38;5;129;01mnot\u001b[39;00m \u001b[38;5;28;01mNone\u001b[39;00m, \u001b[38;5;124m'\u001b[39m\u001b[38;5;124mParent scope is not entered.\u001b[39m\u001b[38;5;124m'\u001b[39m\n",
      "File \u001b[0;32m/usr/local/lib/python3.8/dist-packages/nni/nas/nn/pytorch/base.py:412\u001b[0m, in \u001b[0;36mstrict_label_scope.next_label\u001b[0;34m(self)\u001b[0m\n\u001b[1;32m    411\u001b[0m \u001b[38;5;28;01mdef\u001b[39;00m \u001b[38;5;21mnext_label\u001b[39m(\u001b[38;5;28mself\u001b[39m) \u001b[38;5;241m-\u001b[39m\u001b[38;5;241m>\u001b[39m \u001b[38;5;28mstr\u001b[39m:\n\u001b[0;32m--> 412\u001b[0m     \u001b[38;5;28;01mraise\u001b[39;00m \u001b[38;5;167;01mValueError\u001b[39;00m(\u001b[38;5;124m'\u001b[39m\u001b[38;5;124mLabel must be specified manually in NAS, or provide a `label_prefix` to the model space.\u001b[39m\u001b[38;5;124m'\u001b[39m)\n",
      "\u001b[0;31mValueError\u001b[0m: Label must be specified manually in NAS, or provide a `label_prefix` to the model space."
     ]
    }
   ],
   "source": [
    "enc = searchspace_causal_cnn.CausalCNNEncoder(3,3,3,3,3,3)\n",
    "enc"
   ]
  },
  {
   "cell_type": "code",
   "execution_count": null,
   "metadata": {},
   "outputs": [],
   "source": []
  }
 ],
 "metadata": {
  "kernelspec": {
   "display_name": "Python 3",
   "language": "python",
   "name": "python3"
  },
  "language_info": {
   "codemirror_mode": {
    "name": "ipython",
    "version": 3
   },
   "file_extension": ".py",
   "mimetype": "text/x-python",
   "name": "python",
   "nbconvert_exporter": "python",
   "pygments_lexer": "ipython3",
   "version": "3.8.10"
  }
 },
 "nbformat": 4,
 "nbformat_minor": 2
}
